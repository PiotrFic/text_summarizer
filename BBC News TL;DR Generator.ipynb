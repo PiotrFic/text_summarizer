{
 "cells": [
  {
   "cell_type": "markdown",
   "id": "fed46827",
   "metadata": {
    "id": "odSmHpzTAKHL"
   },
   "source": [
    "# BBC News TL;DR Generator\n",
    "## Simple Text Summarizer\n",
    "-------------------------\n"
   ]
  },
  {
   "cell_type": "markdown",
   "id": "hiIQ7s2LtN3Z",
   "metadata": {
    "id": "hiIQ7s2LtN3Z"
   },
   "source": [
    "This **'Too Long; Didn't Read'** generator creates simple, extraction-based summary bullets from random BBC tech-related news stories (full dataset is available at http://mlg.ucd.ie/datasets/bbc.html).\n",
    "\n",
    "Program is using a cosine similarity to compare the sentences and rank them accordingly using PageRank algorithm. Top ranked sentences are presented as a summary.\n",
    "\n",
    "Cosine similarity is a metric that measures the cosine of an angle between two vectors projected in multi-dimensional space. The smaller the angle between the vectors, the more similar they are to each other (check out https://youtu.be/m_CooIRM3UI for more details)."
   ]
  },
  {
   "attachments": {
    "cosine.png": {
     "image/png": "[encoded data removed]"
    }
   },
   "cell_type": "markdown",
   "id": "6930bb40",
   "metadata": {},
   "source": [
    "![cosine.png](attachment:cosine.png)"
   ]
  },
  {
   "cell_type": "markdown",
   "id": "EEvO7edz_-pn",
   "metadata": {
    "id": "EEvO7edz_-pn"
   },
   "source": [
    "## Importing neccesary modules"
   ]
  },
  {
   "cell_type": "code",
   "execution_count": 1,
   "id": "3d936a91",
   "metadata": {
    "colab": {
     "base_uri": "https://localhost:8080/"
    },
    "executionInfo": {
     "elapsed": 9,
     "status": "ok",
     "timestamp": 1647005194385,
     "user": {
      "displayName": "Piotr Fic",
      "photoUrl": "https://lh3.googleusercontent.com/a/default-user=s64",
      "userId": "07092203333631254390"
     },
     "user_tz": -60
    },
    "id": "3d936a91",
    "outputId": "5df865c0-6668-44ad-9536-482ad6bcc44b"
   },
   "outputs": [],
   "source": [
    "import random\n",
    "import os\n",
    "import nltk\n",
    "from nltk.corpus import stopwords # used to remove common, mostly unnecessary words like articles, prepositions or pronouns\n",
    "# if failed try:\n",
    "# nltk.download('stopwords') \n",
    "from nltk.cluster.util import cosine_distance # cos_similarity = 1 - cos_distance\n",
    "import numpy as np\n",
    "import networkx as nx # rank the sentences using network graph(pagerank function)"
   ]
  },
  {
   "cell_type": "markdown",
   "id": "MsvalpJQBGNB",
   "metadata": {
    "id": "MsvalpJQBGNB"
   },
   "source": [
    "## Defining functions"
   ]
  },
  {
   "cell_type": "code",
   "execution_count": 2,
   "id": "yf1QEzjN_11p",
   "metadata": {
    "id": "yf1QEzjN_11p"
   },
   "outputs": [],
   "source": [
    "# picking a random article\n",
    "def choose_file(path):\n",
    "    file_name = random.choice(os.listdir(path))\n",
    "    return path + '/' + file_name"
   ]
  },
  {
   "cell_type": "code",
   "execution_count": 3,
   "id": "be88edad",
   "metadata": {
    "id": "be88edad"
   },
   "outputs": [],
   "source": [
    "# opening a file, cleaning the text and tokenizing the sentences\n",
    "def read_article(file_name):\n",
    "    file_listed = open(file_name).readlines() \n",
    "    \n",
    "    file_string = '' # whole file as one long string\n",
    "    for line in file_listed[1:]:\n",
    "        line = line.rstrip().replace(',', '').replace('\"', '').replace(':', '').replace('?', '.').replace('!', '.')\n",
    "        if len(line) > 1:\n",
    "            file_string += line + ' '\n",
    "            \n",
    "    article = file_string.split('. ') # list of sentences\n",
    "    \n",
    "    sentences = [] # list of lists (words in sentences)\n",
    "    for sentence in article:\n",
    "        sentences.append(sentence.split(' '))\n",
    "        \n",
    "    return file_listed, sentences"
   ]
  },
  {
   "cell_type": "code",
   "execution_count": 4,
   "id": "4c7aeff1",
   "metadata": {
    "id": "4c7aeff1"
   },
   "outputs": [],
   "source": [
    "# turning two sentences into word-frequency vectors and calculating cosine similarity between them\n",
    "def sentence_similarity(sentence_1, sentence_2, stopwords = None):\n",
    "    if stopwords is None:\n",
    "        stopwords = []\n",
    "        \n",
    "    sentence_1 = [word.lower() for word in sentence_1]\n",
    "    sentence_2 = [word.lower() for word in sentence_2]\n",
    "    all_words = list(set(sentence_1 + sentence_2))\n",
    "    \n",
    "    vector_1 = [0 for i in range(len(all_words))]\n",
    "    vector_2 = [0 for i in range(len(all_words))]\n",
    "    \n",
    "    for word in sentence_1:\n",
    "        if word in stopwords:\n",
    "            continue\n",
    "        vector_1[all_words.index(word)] += 1\n",
    "        \n",
    "    for word in sentence_2:\n",
    "        if word in stopwords:\n",
    "            continue\n",
    "        vector_2[all_words.index(word)] += 1\n",
    "        \n",
    "    return 1 - cosine_distance(vector_1, vector_2)"
   ]
  },
  {
   "cell_type": "code",
   "execution_count": 5,
   "id": "12f70f2d",
   "metadata": {
    "id": "12f70f2d"
   },
   "outputs": [],
   "source": [
    "# creating similarity matrix filled with results of cosine similarity calculations\n",
    "def generate_similarity_matrix(sentences, stop_words):\n",
    "    similarity_matrix = np.zeros((len(sentences), len(sentences)))\n",
    "    \n",
    "    for idx_1 in range(len(sentences)):\n",
    "        for idx_2 in range(len(sentences)):\n",
    "            if idx_1 == idx_2:\n",
    "                continue\n",
    "            similarity_matrix[idx_1][idx_2] = sentence_similarity(sentences[idx_1], sentences[idx_2], stop_words)\n",
    "            \n",
    "    return similarity_matrix"
   ]
  },
  {
   "cell_type": "code",
   "execution_count": 6,
   "id": "47567fe2",
   "metadata": {
    "id": "47567fe2"
   },
   "outputs": [],
   "source": [
    "# main function - rank the vectors and print the summary\n",
    "def generate_summary(path, top_n = 4): # show top_n sentences\n",
    "    stop_words = stopwords.words('english') \n",
    "    file_listed, sentences = read_article(choose_file(path))\n",
    "    \n",
    "    sentence_similarity_matrix = generate_similarity_matrix(sentences, stop_words)\n",
    "    sentence_similarity_graph = nx.from_numpy_array(sentence_similarity_matrix) # returns a graph from a 2D NumPy array\n",
    "    scores = nx.pagerank(sentence_similarity_graph) # pagerank computes a ranking of the nodes in the graph \n",
    "    ranked_sentence = sorted(((scores[i], s) for i, s in enumerate(sentences)), reverse = True)\n",
    "\n",
    "    print('Title:', file_listed[0])\n",
    "    \n",
    "    print('Full article:')\n",
    "    full_counter = 0\n",
    "    for line in file_listed[1:]:\n",
    "        print(line.strip())\n",
    "        full_counter += len(line)\n",
    "    print('\\nSum of characters:', full_counter)\n",
    "    \n",
    "    print('\\nTL;DR:') \n",
    "    summary_counter = 0\n",
    "    for i in range(top_n):\n",
    "        sentence = ' '.join(ranked_sentence[i][1])\n",
    "        print('-', sentence, end = '.\\n')\n",
    "        summary_counter += len(sentence)\n",
    "    print('\\nSum of characters:', summary_counter)"
   ]
  },
  {
   "cell_type": "markdown",
   "id": "h4xHEyfLBKRy",
   "metadata": {
    "id": "h4xHEyfLBKRy"
   },
   "source": [
    "## Program execution"
   ]
  },
  {
   "cell_type": "code",
   "execution_count": 7,
   "id": "TBbQ2OqtqRrw",
   "metadata": {
    "colab": {
     "base_uri": "https://localhost:8080/"
    },
    "executionInfo": {
     "elapsed": 374,
     "status": "ok",
     "timestamp": 1647005194754,
     "user": {
      "displayName": "Piotr Fic",
      "photoUrl": "https://lh3.googleusercontent.com/a/default-user=s64",
      "userId": "07092203333631254390"
     },
     "user_tz": -60
    },
    "id": "TBbQ2OqtqRrw",
    "outputId": "4198f497-0a38-47d3-b55a-5a55d8cd50e4",
    "scrolled": true
   },
   "outputs": [
    {
     "name": "stdout",
     "output_type": "stream",
     "text": [
      "Title: Mobile games come of age\n",
      "\n",
      "Full article:\n",
      "\n",
      "The BBC News website takes a look at how games on mobile phones are maturing. A brief round-up follows but you can skip straight to the reviews by clicking on the links below.\n",
      "\n",
      "If you think of Snake when some mentions \"mobile games\" then you could be in for a bit of a surprise. This is because mobile games have come a long way in a very short time. Even before Nokia's N-Gage game phone launched in late 2003, many mobile operators were realising that there was an audience looking for something to play on their handset.\n",
      "\n",
      "And given that many more people own handsets than own portable game playing gadgets such as the GameBoy it could be a very lucrative market. That audience includes commuters wanting something to fill their time on the way home, game fans looking for a bit of variety and hard core gamers who like to play every moment they can. Life for all these types of player has got immeasurably better in the last year as the numbers of titles you can download to your phone has snowballed. Now sites such as Wireless Gaming Review list more than 200 different titles for some UK networks and the ranges suit every possible taste. There are ports of PC and arcade classics such as Space Invaders, Lunar Lander and Bejewelled. There are also versions of titles, such as Colin McRae Rally, that you typically find on PCs and consoles.\n",
      "\n",
      "There are shoot-em-ups, adventure games, strategy titles and many novel games only found on handsets. Rarely now does an action movie launch without a mobile game tie-in. Increasingly such launches are all part of the promotional campaign for a film, understandable when you realise that a good game can rack up millions of downloads. The returns can be pretty good when you consider that some games cost ÂŁ5. What has also helped games on mobiles thrive is the fact that it is easier than ever to get hold of them thanks to technology known as Wap push. By sending a text message to a game maker you can have the title downloaded to your handset. Far better than having to navigate through the menus of most mobile operator portals. The number of handsets that can play games has grown hugely too. Almost half of all phones now have Java onboard meaning that they can play the increasingly sophisticated games that are available - even the ones that use 3D graphics.\n",
      "\n",
      "The minimum technology specifications that phones should adhere to are getting more sophisticated which means that games are too. Now double key presses are possible making familiar tactics such as moving and strafing a real option. The processing power on handsets means that physics on mobile games is getting more convincing and the graphics are improving too. Some game makers are also starting to take advantage of the extra capabilities in a mobile. Many titles, particularly racing games, let you upload your best time to see how you compare to others. Usually you can get hold of their best time and race against a \"ghost\" or \"shadow\" to see if you can beat them. A few games also let you take on people in real time via the network or, if you are sitting close to them, via Bluetooth short-range radio technology. With so much going on it is hard to do justice to the sheer diversity of what is happening. But these two features should help point you in the direction of the game makers and give you an idea of where to look and how to get playing.\n",
      "\n",
      "TOO FAST TOO FURIOUS (DIGITAL BRIDGES)\n",
      "\n",
      "As soon as I start playing this I remember why I never play driving games - because I'm rubbish at them. No matter if I drive the car via joystick or keypad I just cannot get the hang of braking for corners or timing a rush to pass other drivers. The game rewards replay because to advance you have to complete every section within a time limit. Winning gives you cash for upgrades. Graphically the rolling road is a convincing enough evocation of speed as the palm trees and cactus whip by and the city scrolls past in the background. The cars handle pretty well despite my uselessness but it was not clear if the different models of cars were appreciably different on the track. The only niggle was that the interface was a bit confusing especially when using a joystick rather than the keypad to play.\n",
      "\n",
      "FATAL FORCE (MACROSPACE)\n",
      "\n",
      "A futuristic shooter that lets you either play various deathmatch modes against your phone or run through a series of scenarios that involves killing aliens invading Earth. Graphics are a bit cartoon-like but only helps to make clear what is going on and levels are well laid out and encourage you to leap about exploring. Both background music and sounds effects work well. The scenarios are well scripted and you regularly get hints from the Fatal Force commanders. Weapons include flamethrowers, rocket launchers, grenades and at a couple of points you even get chance to use a mech for a short while. With the right power-up you can go into a Matrix-style bullet time to cope with the onslaught of aliens. The game lets you play via Bluetooth if others are in range. Online the game has quite a following with clans, player rankings and even new downloadable maps.\n",
      "\n",
      "Sum of characters: 5122\n",
      "\n",
      "TL;DR:\n",
      "- This is because mobile games have come a long way in a very short time.\n",
      "- There are shoot-em-ups adventure games strategy titles and many novel games only found on handsets.\n",
      "- The processing power on handsets means that physics on mobile games is getting more convincing and the graphics are improving too.\n",
      "- Many titles particularly racing games let you upload your best time to see how you compare to others.\n",
      "\n",
      "Sum of characters: 397\n"
     ]
    }
   ],
   "source": [
    "generate_summary('BBC Dataset - Tech')"
   ]
  }
 ],
 "metadata": {
  "colab": {
   "collapsed_sections": [],
   "name": "BBC News TL;DR Generator.ipynb",
   "provenance": [],
   "toc_visible": true
  },
  "kernelspec": {
   "display_name": "Python 3 (ipykernel)",
   "language": "python",
   "name": "python3"
  },
  "language_info": {
   "codemirror_mode": {
    "name": "ipython",
    "version": 3
   },
   "file_extension": ".py",
   "mimetype": "text/x-python",
   "name": "python",
   "nbconvert_exporter": "python",
   "pygments_lexer": "ipython3",
   "version": "3.8.8"
  }
 },
 "nbformat": 4,
 "nbformat_minor": 5
}
